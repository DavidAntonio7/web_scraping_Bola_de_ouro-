{
  "nbformat": 4,
  "nbformat_minor": 0,
  "metadata": {
    "colab": {
      "provenance": [],
      "authorship_tag": "ABX9TyM7KUhuT7OtvlSuvCOBqtYH",
      "include_colab_link": true
    },
    "kernelspec": {
      "name": "python3",
      "display_name": "Python 3"
    },
    "language_info": {
      "name": "python"
    }
  },
  "cells": [
    {
      "cell_type": "markdown",
      "metadata": {
        "id": "view-in-github",
        "colab_type": "text"
      },
      "source": [
        "<a href=\"https://colab.research.google.com/github/DavidAntonio7/web_scraping_Bola_de_ouro-/blob/main/df_Bola_de_Ouro.ipynb\" target=\"_parent\"><img src=\"https://colab.research.google.com/assets/colab-badge.svg\" alt=\"Open In Colab\"/></a>"
      ]
    },
    {
      "cell_type": "code",
      "execution_count": 1,
      "metadata": {
        "id": "KvlLqjs_ZECH"
      },
      "outputs": [],
      "source": [
        "import pandas as pd\n",
        "from urllib.request import urlopen\n",
        "from bs4 import BeautifulSoup\n",
        "import requests"
      ]
    },
    {
      "cell_type": "code",
      "source": [
        "def recuperar_html(site,ano):\n",
        "  url = site\n",
        "  try:\n",
        "      response = requests.get(url)\n",
        "      # Verifique se a solicitação foi bem-sucedida (código de status 200)\n",
        "      if response.status_code == 200:\n",
        "          html = response.content.decode('utf-8')\n",
        "          return html\n",
        "      else:\n",
        "          print(\"Erro no código de status HTTP:\", response.status_code)\n",
        "          print('/n' + str(ano) + '/n')\n",
        "  except requests.exceptions.RequestException as e:\n",
        "      print(\"Erro:\", e)\n",
        "      print('/n' + str(ano) + '/n')\n",
        "  return False\n"
      ],
      "metadata": {
        "id": "zSA47ro8bjZu"
      },
      "execution_count": 2,
      "outputs": []
    },
    {
      "cell_type": "code",
      "source": [
        "nomeados = []\n",
        "for ano in range(1956,2023+1):\n",
        "  site = 'https://www-topendsports-com.translate.goog/sport/soccer/awards/ballondor-' + str(ano) + '.htm?_x_tr_sl=en&_x_tr_tl=pt-PT&_x_tr_hl=pt-PT&_x_tr_pto=tc'\n",
        "  html = recuperar_html(site,ano)\n",
        "  if html != False:\n",
        "    bs = BeautifulSoup(html,'html.parser')\n",
        "    tags = bs.find_all('td')\n",
        "    if ano != 2022:\n",
        "      for i in range(int(len(tags)/5)):\n",
        "        nomeados.append([ano,tags[i*5].get_text(),(tags[(i*5)+1].get_text()),(tags[(i*5)+2].get_text()),(tags[(i*5)+3].get_text()),tags[(i*5)+4].get_text()])\n",
        "    else:\n",
        "      for i in range(int(len(tags)/6)):\n",
        "        nomeados.append([ano,tags[i*6].get_text(),(tags[(i*6)+1].get_text()),(tags[(i*6)+3].get_text()),(tags[(i*6)+4].get_text()),tags[(i*6)+5].get_text()])"
      ],
      "metadata": {
        "id": "NRiigPxXkm1H"
      },
      "execution_count": 3,
      "outputs": []
    },
    {
      "cell_type": "code",
      "source": [
        "df_nomeados = pd.DataFrame(nomeados,columns=['Year','Order','Player','Nationality','Club','Points'])"
      ],
      "metadata": {
        "id": "TPuNQLjcnvON"
      },
      "execution_count": 4,
      "outputs": []
    },
    {
      "cell_type": "code",
      "source": [
        "#dados com problemas no site\n",
        "df_nomeados.loc[55, 'Points'] = '6'\n",
        "df_nomeados.loc[149, 'Player'] = 'Denis Law'\n",
        "df_nomeados.loc[149, 'Club'] = 'Torino'\n",
        "df_nomeados.loc[149, 'Nationality'] = 'Scotland'\n",
        "df_nomeados.loc[262, 'Points'] = '3'\n",
        "df_nomeados.loc[1909, 'Points'] = '2'\n",
        "df_nomeados.drop(1005, inplace = True)"
      ],
      "metadata": {
        "id": "nxW_X37iWBSb"
      },
      "execution_count": 5,
      "outputs": []
    },
    {
      "cell_type": "code",
      "source": [
        "posicoes = []\n",
        "for ano in df_nomeados['Year'].unique():\n",
        "  pontuacao = 0\n",
        "  posicao = 0\n",
        "  numero_de_nomeados = 0\n",
        "  for indice,nomeado in df_nomeados[df_nomeados['Year'] == ano].iterrows():\n",
        "    if numero_de_nomeados == 0:\n",
        "      posicao = 1\n",
        "    elif (pontuacao != nomeado.Points):\n",
        "      posicao = numero_de_nomeados + 1\n",
        "    pontuacao = nomeado.Points\n",
        "    numero_de_nomeados +=1\n",
        "    posicoes.append(posicao)"
      ],
      "metadata": {
        "id": "TdGRIxQkYpNy"
      },
      "execution_count": 6,
      "outputs": []
    },
    {
      "cell_type": "code",
      "source": [
        "df_nomeados.Order = posicoes"
      ],
      "metadata": {
        "id": "mk4kHkIKY4TK"
      },
      "execution_count": 7,
      "outputs": []
    },
    {
      "cell_type": "code",
      "source": [
        "df_nomeados.Year = df_nomeados.Year.astype(int)"
      ],
      "metadata": {
        "id": "uey9ASISZt7L"
      },
      "execution_count": 8,
      "outputs": []
    },
    {
      "cell_type": "code",
      "source": [
        "df_nomeados.to_csv('nominees.csv',index=False)"
      ],
      "metadata": {
        "id": "SFAt8DDMz0zm"
      },
      "execution_count": 9,
      "outputs": []
    }
  ]
}